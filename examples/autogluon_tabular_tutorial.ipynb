{
 "cells": [
  {
   "cell_type": "code",
   "execution_count": 1,
   "metadata": {},
   "outputs": [
    {
     "ename": "ModuleNotFoundError",
     "evalue": "No module named 'gluonts.nursery.autogluon_tabular_lags'",
     "output_type": "error",
     "traceback": [
      "\u001b[0;31m---------------------------------------------------------------------------\u001b[0m",
      "\u001b[0;31mModuleNotFoundError\u001b[0m                       Traceback (most recent call last)",
      "\u001b[0;32m<ipython-input-1-bc2479ad3570>\u001b[0m in \u001b[0;36m<module>\u001b[0;34m\u001b[0m\n\u001b[1;32m      1\u001b[0m \u001b[0;32mimport\u001b[0m \u001b[0mpandas\u001b[0m \u001b[0;32mas\u001b[0m \u001b[0mpd\u001b[0m\u001b[0;34m\u001b[0m\u001b[0;34m\u001b[0m\u001b[0m\n\u001b[1;32m      2\u001b[0m \u001b[0;32mimport\u001b[0m \u001b[0mnumpy\u001b[0m \u001b[0;32mas\u001b[0m \u001b[0mnp\u001b[0m\u001b[0;34m\u001b[0m\u001b[0;34m\u001b[0m\u001b[0m\n\u001b[0;32m----> 3\u001b[0;31m \u001b[0;32mfrom\u001b[0m \u001b[0mgluonts\u001b[0m\u001b[0;34m.\u001b[0m\u001b[0mnursery\u001b[0m\u001b[0;34m.\u001b[0m\u001b[0mautogluon_tabular_lags\u001b[0m \u001b[0;32mimport\u001b[0m \u001b[0mLocalTabularPredictor\u001b[0m\u001b[0;34m\u001b[0m\u001b[0;34m\u001b[0m\u001b[0m\n\u001b[0m\u001b[1;32m      4\u001b[0m \u001b[0;32mfrom\u001b[0m \u001b[0mgluonts\u001b[0m\u001b[0;34m.\u001b[0m\u001b[0mdataset\u001b[0m\u001b[0;34m.\u001b[0m\u001b[0mcommon\u001b[0m \u001b[0;32mimport\u001b[0m \u001b[0mListDataset\u001b[0m\u001b[0;34m\u001b[0m\u001b[0;34m\u001b[0m\u001b[0m\n\u001b[1;32m      5\u001b[0m \u001b[0;32mfrom\u001b[0m \u001b[0mgluonts\u001b[0m\u001b[0;34m.\u001b[0m\u001b[0mdataset\u001b[0m\u001b[0;34m.\u001b[0m\u001b[0mutil\u001b[0m \u001b[0;32mimport\u001b[0m \u001b[0mto_pandas\u001b[0m\u001b[0;34m\u001b[0m\u001b[0;34m\u001b[0m\u001b[0m\n",
      "\u001b[0;31mModuleNotFoundError\u001b[0m: No module named 'gluonts.nursery.autogluon_tabular_lags'"
     ]
    }
   ],
   "source": [
    "import pandas as pd\n",
    "import numpy as np\n",
    "from gluonts.nursery.autogluon_tabular_lags import LocalTabularPredictor\n",
    "from gluonts.dataset.common import ListDataset\n",
    "from gluonts.dataset.util import to_pandas\n",
    "from gluonts.dataset.common import ListDataset"
   ]
  },
  {
   "cell_type": "markdown",
   "metadata": {},
   "source": [
    "Make or import a dataset with specific frequency. "
   ]
  },
  {
   "cell_type": "code",
   "execution_count": null,
   "metadata": {},
   "outputs": [],
   "source": [
    "dataset = ListDataset(\n",
    "        [\n",
    "            {\n",
    "                \"start\": pd.Timestamp(\"1750-01-04 00:00:00\", freq=\"W-SUN\"),\n",
    "                \"target\": np.array(\n",
    "                    [1089.2, 1078.91, 1099.88, 35790.55, 34096.95, 34906.95],\n",
    "                ),\n",
    "            },\n",
    "            {\n",
    "                \"start\": pd.Timestamp(\"1750-01-04 00:00:00\", freq=\"W-SUN\"),\n",
    "                \"target\": np.array(\n",
    "                    [1099.2, 1098.91, 1069.88, 35990.55, 34076.95, 34766.95],\n",
    "                ),\n",
    "            },\n",
    "            {\n",
    "                \"start\": pd.Timestamp(\"1750-01-04 00:00:00\", freq=\"W-SUN\"),\n",
    "                \"target\": np.array(\n",
    "                    [1079.2, 1078.91, 1029.88, 35790.55, 34056.95, 34566.95],\n",
    "                ),\n",
    "            },\n",
    "            {\n",
    "                \"start\": pd.Timestamp(\"1750-01-04 00:00:00\", freq=\"W-SUN\"),\n",
    "                \"target\": np.array(\n",
    "                    [2059.2, 1057.91, 1019.88, 35590.55, 34036.95, 34366.95],\n",
    "                ),\n",
    "            },\n",
    "            {\n",
    "                \"start\": pd.Timestamp(\"1750-01-04 00:00:00\", freq=\"W-SUN\"),\n",
    "                \"target\": np.array(\n",
    "                    [1089.2, 1078.91, 1099.88, 35790.55, 34056.95, 34566.95],\n",
    "                ),\n",
    "            },\n",
    "            {\n",
    "                \"start\": pd.Timestamp(\"1750-01-04 00:00:00\", freq=\"W-SUN\"),\n",
    "                \"target\": np.array(\n",
    "                    [1049.2, 1057.91, 1049.88, 35590.55, 34036.95, 34366.95],\n",
    "                ),\n",
    "            },\n",
    "        ],\n",
    "        freq=\"W-SUN\",\n",
    "    )"
   ]
  },
  {
   "cell_type": "markdown",
   "metadata": {},
   "source": [
    "Specify the prediction length and frequency."
   ]
  },
  {
   "cell_type": "code",
   "execution_count": null,
   "metadata": {},
   "outputs": [],
   "source": [
    "prediction_length = 2\n",
    "freq = \"W-SUN\""
   ]
  },
  {
   "cell_type": "markdown",
   "metadata": {},
   "source": [
    "Create a predictor. LocalTabularPredictor enables you to train a TabularPredictor for each time series by a Localizer. If LocalTabularPredictor is not uses, all of the time series in a dataset will be stacked together and trained into a general model. \n",
    "use_lag: specify if lagged values are needed\n",
    "lags: if use_lag is True, then specify a list of lagged values. If lags is not set, the TabularPredictor will automatically generate a list for you."
   ]
  },
  {
   "cell_type": "code",
   "execution_count": null,
   "metadata": {},
   "outputs": [],
   "source": [
    "predictor = LocalTabularPredictor(\n",
    "    freq=freq, \n",
    "    prediction_length=prediction_length, \n",
    "    use_lag=True, \n",
    "    lags=[]\n",
    "    )\n",
    "    "
   ]
  },
  {
   "cell_type": "markdown",
   "metadata": {},
   "source": [
    "The prediction generates an iterator of the forecast values."
   ]
  },
  {
   "cell_type": "code",
   "execution_count": 2,
   "metadata": {},
   "outputs": [
    {
     "ename": "NameError",
     "evalue": "name 'predictor' is not defined",
     "output_type": "error",
     "traceback": [
      "\u001b[0;31m---------------------------------------------------------------------------\u001b[0m",
      "\u001b[0;31mNameError\u001b[0m                                 Traceback (most recent call last)",
      "\u001b[0;32m<ipython-input-2-1d14f281543d>\u001b[0m in \u001b[0;36m<module>\u001b[0;34m\u001b[0m\n\u001b[0;32m----> 1\u001b[0;31m \u001b[0mforecasts_it\u001b[0m \u001b[0;34m=\u001b[0m \u001b[0mpredictor\u001b[0m\u001b[0;34m.\u001b[0m\u001b[0mpredict\u001b[0m\u001b[0;34m(\u001b[0m\u001b[0mdataset\u001b[0m\u001b[0;34m)\u001b[0m\u001b[0;34m\u001b[0m\u001b[0;34m\u001b[0m\u001b[0m\n\u001b[0m\u001b[1;32m      2\u001b[0m \u001b[0mforecasts\u001b[0m \u001b[0;34m=\u001b[0m \u001b[0mlist\u001b[0m\u001b[0;34m(\u001b[0m\u001b[0mforecasts_it\u001b[0m\u001b[0;34m)\u001b[0m\u001b[0;34m\u001b[0m\u001b[0;34m\u001b[0m\u001b[0m\n\u001b[1;32m      3\u001b[0m \u001b[0mprint\u001b[0m\u001b[0;34m(\u001b[0m\u001b[0mforecasts\u001b[0m\u001b[0;34m)\u001b[0m\u001b[0;34m\u001b[0m\u001b[0;34m\u001b[0m\u001b[0m\n",
      "\u001b[0;31mNameError\u001b[0m: name 'predictor' is not defined"
     ]
    }
   ],
   "source": [
    "forecasts_it = predictor.predict(dataset)\n",
    "forecasts = list(forecasts_it)\n",
    "print(forecasts)"
   ]
  },
  {
   "cell_type": "code",
   "execution_count": null,
   "metadata": {},
   "outputs": [],
   "source": []
  },
  {
   "cell_type": "code",
   "execution_count": null,
   "metadata": {},
   "outputs": [],
   "source": []
  }
 ],
 "metadata": {
  "kernelspec": {
   "display_name": "Python 3",
   "language": "python",
   "name": "python3"
  },
  "language_info": {
   "codemirror_mode": {
    "name": "ipython",
    "version": 3
   },
   "file_extension": ".py",
   "mimetype": "text/x-python",
   "name": "python",
   "nbconvert_exporter": "python",
   "pygments_lexer": "ipython3",
   "version": "3.6.8"
  }
 },
 "nbformat": 4,
 "nbformat_minor": 4
}
